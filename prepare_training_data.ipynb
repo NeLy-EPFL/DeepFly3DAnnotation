{
 "cells": [
  {
   "cell_type": "code",
   "execution_count": 4,
   "source": [
    "%load_ext autoreload\n",
    "%autoreload 2\n",
    "\n",
    "import json\n",
    "import numpy as np\n",
    "import pickle\n",
    "\n",
    "#from deepfly.CameraNetwork import json2points2d"
   ],
   "outputs": [
    {
     "output_type": "stream",
     "name": "stdout",
     "text": [
      "The autoreload extension is already loaded. To reload it, use:\n",
      "  %reload_ext autoreload\n"
     ]
    }
   ],
   "metadata": {}
  },
  {
   "cell_type": "code",
   "execution_count": 11,
   "source": [
    "# Load the json file\n",
    "annotations = json.load(open('deepfly3d-annotations-120821.json', 'rb'))\n",
    "# Choose the last session\n",
    "annotations_last_session = annotations['qt3mY5Iy6pT6EC1sjd5gx7T9kXh1']['data']"
   ],
   "outputs": [],
   "metadata": {}
  },
  {
   "cell_type": "code",
   "execution_count": 5,
   "source": [
    "# Legs for each camera\n",
    "left = np.array([keypoint for keypoint in range(19,34)] + [38] + [34,35,36])\n",
    "front = np.array([0,1,2,3,4,7,8,9,19,20,21,22,23,26,27,28,18,37])\n",
    "right = np.array([keypoint for keypoint in range(0,15)] + [18] + [15,16,17])\n",
    "\n",
    "assert left.shape == (19,) and right.shape == (19,) and front.shape == (18,)"
   ],
   "outputs": [],
   "metadata": {}
  },
  {
   "cell_type": "code",
   "execution_count": 26,
   "source": [
    "# Camera id and keypoints\n",
    "camera_id_visible_joints = {\n",
    "    'left_rear': (0, left),\n",
    "    'left': (1, left),\n",
    "    'left_front': (2, left),\n",
    "    'front': (3, front),\n",
    "    'right_front': (4, right),\n",
    "    'right': (5, right),\n",
    "    'right_rear': (6, right),\n",
    "}"
   ],
   "outputs": [],
   "metadata": {}
  },
  {
   "cell_type": "code",
   "execution_count": 29,
   "source": [
    "annotation_dictionary = {}\n",
    "# hard-coded for now\n",
    "image_folder = '/home/nely/front/DeepFly3D/prepare_data/data/210727_aJO-GAL4xUAS-CsChr/Fly001/001_Beh/behData/images/'\n",
    "\n",
    "for folder in annotations_last_session:\n",
    "    points2d = json2points2d(annotations_last_session[folder], image_shape=[1,1], num_images=10000)\n",
    "    \n",
    "    for (camera_id, visible_keypoints) in camera_id_visible_joints.values():\n",
    "        points2d_clip = np.zeros((points2d.shape[1], 19, 2))\n",
    "        # dumping all the annotations in a given order to points2d\n",
    "        # order is: legs-antenna-abdomen\n",
    "        if camera_id == 3:\n",
    "            # for now, skip this camera\n",
    "            continue\n",
    "            points2d_clip[:, np.arange(visible_keypoints.size - 2)] = points2d[camera_id][:,visible_keypoints[:-2]]\n",
    "            points2d_clip[:, -2] = points2d[3][:, -2] # right antenna\n",
    "            points2d_clip[:, -1] = points2d[3][:, -1] # left antenna\n",
    "        else:\n",
    "            points2d_clip[:, np.arange(visible_keypoints.size)] = points2d[camera_id][:,visible_keypoints]\n",
    "        \n",
    "        for img_id in range(points2d_clip.shape[0]):\n",
    "            if np.any(points2d_clip[img_id] != 0):\n",
    "                image_path = image_folder + 'camera_{}_img_{:06d}.jpg'.format(camera_id, img_id)\n",
    "                annotation_dictionary[image_path] = points2d_clip[img_id]\n"
   ],
   "outputs": [
    {
     "output_type": "error",
     "ename": "NameError",
     "evalue": "name 'json2points2d' is not defined",
     "traceback": [
      "\u001b[0;31m---------------------------------------------------------------------------\u001b[0m",
      "\u001b[0;31mNameError\u001b[0m                                 Traceback (most recent call last)",
      "\u001b[0;32m<ipython-input-29-ae410bb53a1d>\u001b[0m in \u001b[0;36m<module>\u001b[0;34m\u001b[0m\n\u001b[1;32m      3\u001b[0m \u001b[0;34m\u001b[0m\u001b[0m\n\u001b[1;32m      4\u001b[0m \u001b[0;32mfor\u001b[0m \u001b[0mfolder\u001b[0m \u001b[0;32min\u001b[0m \u001b[0mannotations_last_session\u001b[0m\u001b[0;34m:\u001b[0m\u001b[0;34m\u001b[0m\u001b[0;34m\u001b[0m\u001b[0m\n\u001b[0;32m----> 5\u001b[0;31m     \u001b[0mpoints2d\u001b[0m \u001b[0;34m=\u001b[0m \u001b[0mjson2points2d\u001b[0m\u001b[0;34m(\u001b[0m\u001b[0mannotations_last_session\u001b[0m\u001b[0;34m[\u001b[0m\u001b[0mfolder\u001b[0m\u001b[0;34m]\u001b[0m\u001b[0;34m,\u001b[0m \u001b[0mimage_shape\u001b[0m\u001b[0;34m=\u001b[0m\u001b[0;34m[\u001b[0m\u001b[0;36m1\u001b[0m\u001b[0;34m,\u001b[0m\u001b[0;36m1\u001b[0m\u001b[0;34m]\u001b[0m\u001b[0;34m,\u001b[0m \u001b[0mnum_images\u001b[0m\u001b[0;34m=\u001b[0m\u001b[0;36m10000\u001b[0m\u001b[0;34m)\u001b[0m\u001b[0;34m\u001b[0m\u001b[0;34m\u001b[0m\u001b[0m\n\u001b[0m\u001b[1;32m      6\u001b[0m \u001b[0;34m\u001b[0m\u001b[0m\n\u001b[1;32m      7\u001b[0m     \u001b[0;32mfor\u001b[0m \u001b[0;34m(\u001b[0m\u001b[0mcamera_id\u001b[0m\u001b[0;34m,\u001b[0m \u001b[0mvisible_keypoints\u001b[0m\u001b[0;34m)\u001b[0m \u001b[0;32min\u001b[0m \u001b[0mcamera_id_visible_joints\u001b[0m\u001b[0;34m.\u001b[0m\u001b[0mvalues\u001b[0m\u001b[0;34m(\u001b[0m\u001b[0;34m)\u001b[0m\u001b[0;34m:\u001b[0m\u001b[0;34m\u001b[0m\u001b[0;34m\u001b[0m\u001b[0m\n",
      "\u001b[0;31mNameError\u001b[0m: name 'json2points2d' is not defined"
     ]
    }
   ],
   "metadata": {}
  },
  {
   "cell_type": "code",
   "execution_count": null,
   "source": [
    "with open('training_dict.pkl', 'wb') as f:\n",
    "    pickle.dump(annotation_dictionary, f)"
   ],
   "outputs": [],
   "metadata": {}
  },
  {
   "cell_type": "code",
   "execution_count": null,
   "source": [],
   "outputs": [],
   "metadata": {}
  }
 ],
 "metadata": {
  "kernelspec": {
   "display_name": "Python 3",
   "language": "python",
   "name": "python3"
  },
  "language_info": {
   "codemirror_mode": {
    "name": "ipython",
    "version": 3
   },
   "file_extension": ".py",
   "mimetype": "text/x-python",
   "name": "python",
   "nbconvert_exporter": "python",
   "pygments_lexer": "ipython3",
   "version": "3.6.13"
  }
 },
 "nbformat": 4,
 "nbformat_minor": 5
}